{
  "nbformat": 4,
  "nbformat_minor": 0,
  "metadata": {
    "kernelspec": {
      "display_name": "Python 3",
      "language": "python",
      "name": "python3"
    },
    "language_info": {
      "codemirror_mode": {
        "name": "ipython",
        "version": 3
      },
      "file_extension": ".py",
      "mimetype": "text/x-python",
      "name": "python",
      "nbconvert_exporter": "python",
      "pygments_lexer": "ipython3",
      "version": "3.6.10"
    },
    "colab": {
      "name": "modulo-5-listas-dicionarios.ipynb",
      "provenance": [],
      "include_colab_link": true
    }
  },
  "cells": [
    {
      "cell_type": "markdown",
      "metadata": {
        "id": "view-in-github",
        "colab_type": "text"
      },
      "source": [
        "<a href=\"https://colab.research.google.com/github/jessicacardoso1/o-py-o/blob/master/modulos/modulo-5-listas-dicionarios.ipynb\" target=\"_parent\"><img src=\"https://colab.research.google.com/assets/colab-badge.svg\" alt=\"Open In Colab\"/></a>"
      ]
    },
    {
      "cell_type": "markdown",
      "metadata": {
        "id": "GePo-BXqh4NM"
      },
      "source": [
        "<img src=\"https://github.com/jessicacardoso1/o-py-o/blob/master/imagens/5.png?raw=1\">\n",
        "\n",
        "## Revisando o conteúdo da semana!"
      ]
    },
    {
      "cell_type": "markdown",
      "metadata": {
        "id": "-jcHOzOvh4NS"
      },
      "source": [
        "1 - Escreva uma função chamada `nested_sum` que receba uma lista de listas de números inteiros e adicione os elementos de todas as listas aninhadas. Por exemplo:"
      ]
    },
    {
      "cell_type": "markdown",
      "metadata": {
        "id": "5WqLVOfDh4NU"
      },
      "source": [
        "```python\n",
        "t = [[1, 2], [3], [4, 5, 6]]\n",
        "nested_sum(t)\n",
        "21\n",
        "```"
      ]
    },
    {
      "cell_type": "code",
      "metadata": {
        "id": "lzk13-QBh4NW",
        "outputId": "945ded40-aeed-411e-bb71-68c9393e8eb2",
        "colab": {
          "base_uri": "https://localhost:8080/",
          "height": 34
        }
      },
      "source": [
        "t = [[1, 2], [3], [4, 5, 6]]\n",
        "def nested_sum(t):\n",
        "    soma = 0\n",
        "    for i in t:\n",
        "      soma += sum(i)\n",
        "    return soma\n",
        "\n",
        "nested_sum(t)"
      ],
      "execution_count": null,
      "outputs": [
        {
          "output_type": "execute_result",
          "data": {
            "text/plain": [
              "22"
            ]
          },
          "metadata": {
            "tags": []
          },
          "execution_count": 5
        }
      ]
    },
    {
      "cell_type": "markdown",
      "metadata": {
        "id": "_m2TeOIih4Nk"
      },
      "source": [
        "2 - Escreva uma função chamada `is_sorted` que tome uma lista como parâmetro e retorne **True** se a lista estiver classificada em ordem ascendente, e False se não for o caso. Por exemplo:"
      ]
    },
    {
      "cell_type": "markdown",
      "metadata": {
        "id": "O7GqztQIh4Nm"
      },
      "source": [
        "```python\n",
        "is_sorted([1, 2, 2])\n",
        "True\n",
        "is_sorted(['b', 'a'])\n",
        "False\n",
        "```"
      ]
    },
    {
      "cell_type": "code",
      "metadata": {
        "id": "o_9waBQXh4No",
        "outputId": "3ff5d32c-6913-4d19-aeca-5ea950a3643b",
        "colab": {
          "base_uri": "https://localhost:8080/",
          "height": 34
        }
      },
      "source": [
        "# tentativa 1\n",
        "t = [1, 2, 3, 4, 5, 6]\n",
        "t2 = [1, 2, 3, 5, 4, 6]\n",
        "\n",
        "def is_sorted(t):\n",
        "    i = 0\n",
        "    while(i < len(t)):\n",
        "      if (i <= t[i+1]):\n",
        "          return True\n",
        "          i +=2\n",
        "      return False    \n",
        "\n",
        "\n",
        "is_sorted(t2)"
      ],
      "execution_count": null,
      "outputs": [
        {
          "output_type": "execute_result",
          "data": {
            "text/plain": [
              "True"
            ]
          },
          "metadata": {
            "tags": []
          },
          "execution_count": 36
        }
      ]
    },
    {
      "cell_type": "code",
      "metadata": {
        "id": "5AVWQqg2krp3",
        "outputId": "36289a07-f601-426d-8485-901d2e633f69",
        "colab": {
          "base_uri": "https://localhost:8080/",
          "height": 34
        }
      },
      "source": [
        "#tentativa 2\n",
        "t = [1, 2, 3, 4, 5, 6]\n",
        "t2 = [1, 2, 3, 5, 4, 6]\n",
        "t3 = [3, 2, 3, 5, 7, 6]\n",
        "\n",
        "def is_sorted(t):\n",
        "    for i in range(1, len(t), 1):\n",
        "        if (i > i+1):\n",
        "          return (i, i+1)\n",
        "        else:\n",
        "          return (i, i+1)  \n",
        "\n",
        "is_sorted(t)\n"
      ],
      "execution_count": null,
      "outputs": [
        {
          "output_type": "execute_result",
          "data": {
            "text/plain": [
              "(1, 2)"
            ]
          },
          "metadata": {
            "tags": []
          },
          "execution_count": 42
        }
      ]
    },
    {
      "cell_type": "code",
      "metadata": {
        "id": "KjezMUGIo2aG",
        "outputId": "14968da8-acaa-454a-8acd-7d1be70f40db",
        "colab": {
          "base_uri": "https://localhost:8080/",
          "height": 34
        }
      },
      "source": [
        "#tentativa correta\n",
        "t = [1, 2, 3, 4, 5, 6]\n",
        "t2 = [1, 2, 3, 5, 4, 6]\n",
        "t3 = [3, 2, 3, 5, 7, 6]\n",
        "\n",
        "def is_sorted(t):\n",
        "    t2 = t[:]\n",
        "    t2.sort()\n",
        "    #t2 = sorted(t)\n",
        "\n",
        "    return (t2 == t)\n",
        "\n",
        "is_sorted(t1)"
      ],
      "execution_count": null,
      "outputs": [
        {
          "output_type": "execute_result",
          "data": {
            "text/plain": [
              "True"
            ]
          },
          "metadata": {
            "tags": []
          },
          "execution_count": 69
        }
      ]
    },
    {
      "cell_type": "markdown",
      "metadata": {
        "id": "VHkRE2YGh4N1"
      },
      "source": [
        "3 - Escreva uma função chamada `has_duplicates` que tome uma lista e retorne **True** se houver algum elemento que apareça mais de uma vez. Ela não deve modificar a lista original."
      ]
    },
    {
      "cell_type": "code",
      "metadata": {
        "id": "RgGH9xx4h4N4",
        "outputId": "0d5b9162-15b0-4432-e722-200feb4e87be",
        "colab": {
          "base_uri": "https://localhost:8080/",
          "height": 51
        }
      },
      "source": [
        "t = [1, 2, 3, 4, 5, 6]\n",
        "t2 = [1, 2, 4, 3, 4, 6]\n",
        "t3 = [3, 2, 3, 5, 7, 6]\n",
        "\n",
        "def has_duplicates(t):\n",
        "    lista = []\n",
        "    for i in t:\n",
        "        if i not in lista:\n",
        "            lista.append(i)\n",
        "    print(lista)\n",
        "\n",
        "    return (lista == t)\n",
        "\n",
        "has_duplicates(t3)\n",
        "\n"
      ],
      "execution_count": null,
      "outputs": [
        {
          "output_type": "stream",
          "text": [
            "[3, 2, 5, 7, 6]\n"
          ],
          "name": "stdout"
        },
        {
          "output_type": "execute_result",
          "data": {
            "text/plain": [
              "False"
            ]
          },
          "metadata": {
            "tags": []
          },
          "execution_count": 79
        }
      ]
    },
    {
      "cell_type": "markdown",
      "metadata": {
        "id": "7HjBVv0Ph4OG"
      },
      "source": [
        "4 - Você já tem uma função chamada `has_duplicates`, que recebe uma lista como parâmetro e retorna True se houver algum objeto que aparece mais de uma vez na lista. Use um dicionário para escrever uma versão mais rápida e simples de has_duplicates."
      ]
    },
    {
      "cell_type": "code",
      "metadata": {
        "id": "NlEoMbbEh4OK"
      },
      "source": [
        ""
      ],
      "execution_count": null,
      "outputs": []
    },
    {
      "cell_type": "markdown",
      "metadata": {
        "id": "_mtTUnk6h4Oa"
      },
      "source": [
        "---\n",
        "\n",
        "## Quais são as outras formas de praticar esses conceitos?\n",
        "<img src=\"https://media.giphy.com/media/Ta1zCPgNNr2GQ/giphy.gif\" align=\"left\">\n"
      ]
    },
    {
      "cell_type": "markdown",
      "metadata": {
        "id": "qaALYDZQh4Oc"
      },
      "source": [
        "<Adicionar atividade de sua preferência para aplicação dos conceitos>"
      ]
    }
  ]
}