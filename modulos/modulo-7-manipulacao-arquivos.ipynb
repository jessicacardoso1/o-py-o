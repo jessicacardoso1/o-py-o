{
  "nbformat": 4,
  "nbformat_minor": 0,
  "metadata": {
    "kernelspec": {
      "display_name": "Python 3",
      "language": "python",
      "name": "python3"
    },
    "language_info": {
      "codemirror_mode": {
        "name": "ipython",
        "version": 3
      },
      "file_extension": ".py",
      "mimetype": "text/x-python",
      "name": "python",
      "nbconvert_exporter": "python",
      "pygments_lexer": "ipython3",
      "version": "3.6.10"
    },
    "colab": {
      "name": "modulo-7-manipulacao-arquivos.ipynb",
      "provenance": [],
      "toc_visible": true,
      "include_colab_link": true
    }
  },
  "cells": [
    {
      "cell_type": "markdown",
      "metadata": {
        "id": "view-in-github",
        "colab_type": "text"
      },
      "source": [
        "<a href=\"https://colab.research.google.com/github/jessicacardoso1/o-py-o/blob/master/modulos/modulo-7-manipulacao-arquivos.ipynb\" target=\"_parent\"><img src=\"https://colab.research.google.com/assets/colab-badge.svg\" alt=\"Open In Colab\"/></a>"
      ]
    },
    {
      "cell_type": "markdown",
      "metadata": {
        "id": "zyjN58WSA3GT"
      },
      "source": [
        "<img src=\"https://github.com/jessicacardoso1/o-py-o/blob/master/imagens/7.png?raw=1\">\n",
        "\n",
        "## Revisando o conteúdo da semana!"
      ]
    },
    {
      "cell_type": "markdown",
      "metadata": {
        "id": "I4ADlz9xA3GY"
      },
      "source": [
        "1. Escreva uma função chamada sed que receba como argumentos uma string-padrão, uma string de substituição e dois nomes de arquivo; ela deve ler o primeiro arquivo e escrever o conteúdo no segundo arquivo (criando-o, se necessário). Se a string-padrão aparecer em algum lugar do arquivo, ela deve ser substituída pela string de substituição. Se ocorrer um erro durante a abertura, leitura, escrita ou fechamento dos arquivos, seu programa deve capturar a exceção, exibir uma mensagem de erro e encerrar."
      ]
    },
    {
      "cell_type": "code",
      "metadata": {
        "id": "iIs72sliTvZL"
      },
      "source": [
        "arquivo = open('arquivo1.txt', 'w')\n",
        "arquivo.write('oi padrao')\n",
        "arquivo.close()"
      ],
      "execution_count": 6,
      "outputs": []
    },
    {
      "cell_type": "code",
      "metadata": {
        "id": "Fw5kHoYqA3Gg"
      },
      "source": [
        "msg1 = 'padrao'\n",
        "msg2 = 'substituta'\n",
        "arq1 = \"arquivo1.txt\"\n",
        "arq2 = \"arquivo2.txt \"\n",
        "\n",
        "def sed(padrao, substituir, arq1, arq2):\n",
        "    try:\n",
        "        arquivo1 = open(arq1, 'r')\n",
        "        arquivo2 = open(arq2, 'w')\n",
        "\n",
        "        for linha in arquivo1:\n",
        "            linha = linha.replace(padrao, substituir)\n",
        "            arquivo2.write(linha)\n",
        "          \n",
        "        arquivo1.close()\n",
        "        arquivo2.close()\n",
        "    except:\n",
        "      print('deu merda')\n",
        "\n",
        "sed(msg1, msg2, arq1, arq2)"
      ],
      "execution_count": 18,
      "outputs": []
    },
    {
      "cell_type": "markdown",
      "metadata": {
        "id": "SP4-2T7PA3Gw"
      },
      "source": [
        "---\n",
        "\n",
        "## Quais são as outras formas de praticar esses conceitos?\n",
        "\n",
        "<img src=\"https://media.giphy.com/media/45dPIJaV9AYOZUZ0nQ/giphy.gif\" align=\"left\">\n"
      ]
    },
    {
      "cell_type": "markdown",
      "metadata": {
        "id": "Ipl4PI5MA3Gx"
      },
      "source": [
        "<Adicionar atividade de sua preferência para aplicação dos conceitos>"
      ]
    },
    {
      "cell_type": "code",
      "metadata": {
        "id": "2tOO2PpXIpdz",
        "outputId": "ab647c31-9058-489d-abbf-94a5fbc966b1",
        "colab": {
          "base_uri": "https://localhost:8080/",
          "height": 34
        }
      },
      "source": [
        "try:\n",
        "    arquivo = open('/sample_data')\n",
        "except:\n",
        "    print('deu merda')"
      ],
      "execution_count": 19,
      "outputs": [
        {
          "output_type": "stream",
          "text": [
            "deu merda\n"
          ],
          "name": "stdout"
        }
      ]
    },
    {
      "cell_type": "code",
      "metadata": {
        "id": "Bk9vDq8XGU2H",
        "outputId": "48992b09-584b-4124-cc55-d3b0f4bc3883",
        "colab": {
          "base_uri": "https://localhost:8080/",
          "height": 35
        }
      },
      "source": [
        "import os\n",
        "mensagem = \"oi\"\n",
        "\n",
        "f = open( 'arquivo2.txt', 'w' )\n",
        "f.write( mensagem )\n",
        "f.close()\n",
        "\n",
        "os.path.abspath('arquivo2.txt')"
      ],
      "execution_count": 13,
      "outputs": [
        {
          "output_type": "execute_result",
          "data": {
            "application/vnd.google.colaboratory.intrinsic+json": {
              "type": "string"
            },
            "text/plain": [
              "'/content/arquivo2.txt'"
            ]
          },
          "metadata": {
            "tags": []
          },
          "execution_count": 13
        }
      ]
    },
    {
      "cell_type": "code",
      "metadata": {
        "id": "01frARQyJptE"
      },
      "source": [
        "mensagem = 52\n",
        "\n",
        "arquivo = open('oi', 'w')\n",
        "\n",
        "arquivo.write(str(mensagem))\n",
        "arquivo.close()"
      ],
      "execution_count": 22,
      "outputs": []
    }
  ]
}